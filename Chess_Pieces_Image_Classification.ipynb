{
  "metadata": {
    "kernelspec": {
      "language": "python",
      "display_name": "Python 3",
      "name": "python3"
    },
    "language_info": {
      "pygments_lexer": "ipython3",
      "nbconvert_exporter": "python",
      "version": "3.6.4",
      "file_extension": ".py",
      "codemirror_mode": {
        "name": "ipython",
        "version": 3
      },
      "name": "python",
      "mimetype": "text/x-python"
    },
    "colab": {
      "name": "Chess-Pieces-Image-Classification.ipynb",
      "provenance": []
    }
  },
  "nbformat_minor": 0,
  "nbformat": 4,
  "cells": [
    {
      "cell_type": "code",
      "source": [
        "import numpy as np \n",
        "import pandas as pd \n",
        "import seaborn as sns\n",
        "import matplotlib.pyplot as plt\n",
        "from sklearn.metrics import plot_confusion_matrix\n",
        "import tensorflow as tf\n",
        "from tensorflow import keras\n",
        "from tensorflow.keras.layers import *"
      ],
      "metadata": {
        "execution": {
          "iopub.status.busy": "2021-08-06T01:00:05.08445Z",
          "iopub.execute_input": "2021-08-06T01:00:05.084803Z",
          "iopub.status.idle": "2021-08-06T01:00:05.089883Z",
          "shell.execute_reply.started": "2021-08-06T01:00:05.084774Z",
          "shell.execute_reply": "2021-08-06T01:00:05.088811Z"
        },
        "trusted": true,
        "id": "9qxSIshDac2z"
      },
      "execution_count": 1,
      "outputs": []
    },
    {
      "cell_type": "code",
      "source": [
        "image_size = (48, 48)\n",
        "batch = 32\n",
        "\n",
        "train = keras.preprocessing.image_dataset_from_directory(\n",
        "    '../input/chessman-image-dataset/chessman-image-dataset/Chessman-image-dataset/Chess/',\n",
        "    validation_split=.2,\n",
        "    subset='training',\n",
        "    seed=42,\n",
        "    image_size=image_size,\n",
        "    batch_size=batch,\n",
        "    label_mode='categorical'\n",
        ")"
      ],
      "metadata": {
        "execution": {
          "iopub.status.busy": "2021-08-06T01:08:59.589062Z",
          "iopub.execute_input": "2021-08-06T01:08:59.589427Z",
          "iopub.status.idle": "2021-08-06T01:08:59.728829Z",
          "shell.execute_reply.started": "2021-08-06T01:08:59.589395Z",
          "shell.execute_reply": "2021-08-06T01:08:59.727621Z"
        },
        "trusted": true,
        "id": "VT1JgUlaac21"
      },
      "execution_count": null,
      "outputs": []
    },
    {
      "cell_type": "code",
      "source": [
        "validation = keras.preprocessing.image_dataset_from_directory(\n",
        "    '../input/chessman-image-dataset/chessman-image-dataset/Chessman-image-dataset/Chess/',\n",
        "    validation_split=.2,\n",
        "    subset='validation',\n",
        "    seed=42,\n",
        "    image_size=image_size,\n",
        "    batch_size=batch,\n",
        "    label_mode='categorical'\n",
        ")"
      ],
      "metadata": {
        "execution": {
          "iopub.status.busy": "2021-08-06T01:09:01.579041Z",
          "iopub.execute_input": "2021-08-06T01:09:01.579388Z",
          "iopub.status.idle": "2021-08-06T01:09:01.70813Z",
          "shell.execute_reply.started": "2021-08-06T01:09:01.579361Z",
          "shell.execute_reply": "2021-08-06T01:09:01.70708Z"
        },
        "trusted": true,
        "id": "TivR9eM1ac21"
      },
      "execution_count": null,
      "outputs": []
    },
    {
      "cell_type": "code",
      "source": [
        "def display_samples(dataset, n_samples, classes_name):\n",
        "    plt.figure(figsize=(10, 10))\n",
        "    for images, labels in dataset.take(1):\n",
        "        for i in range(n_samples):\n",
        "            ax = plt.subplot(3, 3, i + 1)\n",
        "            plt.imshow(images[i].numpy().astype(\"uint8\"))\n",
        "            plt.title(classes_name[np.argmax(labels[i])])\n",
        "            plt.axis(\"off\")"
      ],
      "metadata": {
        "execution": {
          "iopub.status.busy": "2021-08-06T01:09:03.352402Z",
          "iopub.execute_input": "2021-08-06T01:09:03.352749Z",
          "iopub.status.idle": "2021-08-06T01:09:03.357747Z",
          "shell.execute_reply.started": "2021-08-06T01:09:03.352719Z",
          "shell.execute_reply": "2021-08-06T01:09:03.357056Z"
        },
        "trusted": true,
        "id": "MeT7BxJYac22"
      },
      "execution_count": null,
      "outputs": []
    },
    {
      "cell_type": "code",
      "source": [
        "display_samples(train, 9, train.class_names)\n",
        "for images, labels in train.take(1):\n",
        "        for i in range(1):\n",
        "            print(images[i].shape)"
      ],
      "metadata": {
        "execution": {
          "iopub.status.busy": "2021-08-06T01:09:05.968584Z",
          "iopub.execute_input": "2021-08-06T01:09:05.969133Z",
          "iopub.status.idle": "2021-08-06T01:09:11.716842Z",
          "shell.execute_reply.started": "2021-08-06T01:09:05.969091Z",
          "shell.execute_reply": "2021-08-06T01:09:11.715811Z"
        },
        "trusted": true,
        "id": "NSK-vkLAac23"
      },
      "execution_count": null,
      "outputs": []
    },
    {
      "cell_type": "code",
      "source": [
        "display_samples(validation, 9, validation.class_names)"
      ],
      "metadata": {
        "execution": {
          "iopub.status.busy": "2021-08-06T01:00:11.124068Z",
          "iopub.execute_input": "2021-08-06T01:00:11.124625Z",
          "iopub.status.idle": "2021-08-06T01:00:12.15956Z",
          "shell.execute_reply.started": "2021-08-06T01:00:11.124579Z",
          "shell.execute_reply": "2021-08-06T01:00:12.158387Z"
        },
        "trusted": true,
        "id": "nd2XXWQFac24"
      },
      "execution_count": null,
      "outputs": []
    },
    {
      "cell_type": "code",
      "source": [
        "class_names = train.class_names\n",
        "labels = np.array([])\n",
        "for _, label in train:\n",
        "    labels = np.concatenate((labels, np.argmax(label, axis=-1)))\n",
        "_, counts = np.unique(labels, return_counts=True)"
      ],
      "metadata": {
        "execution": {
          "iopub.status.busy": "2021-08-06T01:28:01.734789Z",
          "iopub.execute_input": "2021-08-06T01:28:01.735158Z",
          "iopub.status.idle": "2021-08-06T01:28:05.294379Z",
          "shell.execute_reply.started": "2021-08-06T01:28:01.735128Z",
          "shell.execute_reply": "2021-08-06T01:28:05.293401Z"
        },
        "trusted": true,
        "id": "88R3WHHoac24"
      },
      "execution_count": null,
      "outputs": []
    },
    {
      "cell_type": "code",
      "source": [
        "total = counts.sum()\n",
        "for i in range(len(counts)):\n",
        "    print(f'{class_names[i]}: {counts[i]}({counts[i] / total:.2f}%)')"
      ],
      "metadata": {
        "execution": {
          "iopub.status.busy": "2021-08-06T01:28:32.215734Z",
          "iopub.execute_input": "2021-08-06T01:28:32.21621Z",
          "iopub.status.idle": "2021-08-06T01:28:32.224525Z",
          "shell.execute_reply.started": "2021-08-06T01:28:32.216165Z",
          "shell.execute_reply": "2021-08-06T01:28:32.2235Z"
        },
        "trusted": true,
        "id": "o0lwKJsuac25"
      },
      "execution_count": null,
      "outputs": []
    },
    {
      "cell_type": "code",
      "source": [
        "input_shape = (image_size[0], image_size[1], 3)\n",
        "reg = keras.regularizers.l2(0.0005)\n",
        "\n",
        "model = keras.Sequential()\n",
        "model.add(Conv2D(32, (3, 3), padding=\"same\", activation=\"relu\", input_shape=image_size + (3,), kernel_regularizer=reg))\n",
        "model.add(MaxPooling2D(pool_size=(2, 2)))\n",
        "# model.add(BatchNormalization(axis=3))\n",
        "# model.add(Dropout(0.25))\n",
        "\n",
        "model.add(Conv2D(64, (3, 3), padding=\"same\", activation=\"relu\", kernel_regularizer=reg))\n",
        "model.add(MaxPooling2D(pool_size=(2, 2)))\n",
        "# model.add(BatchNormalization(axis=3))\n",
        "# model.add(Dropout(0.25))\n",
        "\n",
        "model.add(Conv2D(128, (3, 3), padding=\"same\", activation=\"relu\", kernel_regularizer=reg))\n",
        "model.add(MaxPooling2D(pool_size=(2, 2)))\n",
        "# model.add(BatchNormalization(axis=3))\n",
        "model.add(Dropout(0.25))\n",
        "\n",
        "model.add(Flatten())\n",
        "model.add(Dense(128, activation='relu'))\n",
        "model.add(BatchNormalization())\n",
        "model.add(Dropout(0.5))\n",
        "model.add(Dense(len(train.class_names), activation='softmax'))\n",
        "\n",
        "\n",
        "model.summary()"
      ],
      "metadata": {
        "execution": {
          "iopub.status.busy": "2021-08-06T01:00:12.161195Z",
          "iopub.execute_input": "2021-08-06T01:00:12.161598Z",
          "iopub.status.idle": "2021-08-06T01:00:12.263255Z",
          "shell.execute_reply.started": "2021-08-06T01:00:12.161553Z",
          "shell.execute_reply": "2021-08-06T01:00:12.262349Z"
        },
        "trusted": true,
        "id": "vdkBEcNRac25"
      },
      "execution_count": null,
      "outputs": []
    },
    {
      "cell_type": "code",
      "source": [
        "model.compile(\n",
        "    loss=\"categorical_crossentropy\",\n",
        "    optimizer=\"adam\",\n",
        "    metrics=[\"accuracy\"]\n",
        ")\n",
        "\n",
        "epochs = 40\n",
        "model.fit(\n",
        "    train,\n",
        "    epochs=epochs,\n",
        "    validation_data=validation\n",
        ");"
      ],
      "metadata": {
        "execution": {
          "iopub.status.busy": "2021-08-06T01:00:12.266487Z",
          "iopub.execute_input": "2021-08-06T01:00:12.266866Z",
          "iopub.status.idle": "2021-08-06T01:03:45.977719Z",
          "shell.execute_reply.started": "2021-08-06T01:00:12.266818Z",
          "shell.execute_reply": "2021-08-06T01:03:45.976134Z"
        },
        "trusted": true,
        "id": "U-iUSI7Jac26"
      },
      "execution_count": null,
      "outputs": []
    },
    {
      "cell_type": "code",
      "source": [
        "epochs_range = [i+1 for i in range(epochs)]\n",
        "plt.plot(epochs_range, model.history.history['accuracy'], '-o', label='Train')\n",
        "plt.plot(epochs_range, model.history.history['val_accuracy'], '-x',label='Validation')\n",
        "\n",
        "plt.ylabel('Accuracy')\n",
        "plt.xlabel('Epochs')\n",
        "\n",
        "plt.legend();"
      ],
      "metadata": {
        "execution": {
          "iopub.status.busy": "2021-08-06T01:03:45.980686Z",
          "iopub.execute_input": "2021-08-06T01:03:45.981118Z",
          "iopub.status.idle": "2021-08-06T01:03:46.19569Z",
          "shell.execute_reply.started": "2021-08-06T01:03:45.981084Z",
          "shell.execute_reply": "2021-08-06T01:03:46.194563Z"
        },
        "trusted": true,
        "id": "vTDpZfcNac27"
      },
      "execution_count": null,
      "outputs": []
    },
    {
      "cell_type": "code",
      "source": [
        "y_pred = np.argmax(model.predict(validation), axis=-1)\n",
        "\n",
        "predictions = np.array([])\n",
        "labels =  np.array([])\n",
        "for x, y in validation:\n",
        "    predictions = np.concatenate([predictions, np.argmax(model.predict(x), axis=-1)])\n",
        "    labels = np.concatenate([labels, np.argmax(y.numpy(), axis=-1)])"
      ],
      "metadata": {
        "execution": {
          "iopub.status.busy": "2021-08-06T01:03:46.197152Z",
          "iopub.execute_input": "2021-08-06T01:03:46.197437Z",
          "iopub.status.idle": "2021-08-06T01:03:47.98069Z",
          "shell.execute_reply.started": "2021-08-06T01:03:46.197408Z",
          "shell.execute_reply": "2021-08-06T01:03:47.979195Z"
        },
        "trusted": true,
        "id": "YIRrjpeqac27"
      },
      "execution_count": null,
      "outputs": []
    },
    {
      "cell_type": "code",
      "source": [
        "conf = tf.math.confusion_matrix(labels=labels, predictions=predictions)\n",
        "sns.heatmap(conf, annot=True, cmap='Blues', yticklabels=class_names, xticklabels=class_names);"
      ],
      "metadata": {
        "execution": {
          "iopub.status.busy": "2021-08-06T01:03:47.982591Z",
          "iopub.execute_input": "2021-08-06T01:03:47.982998Z",
          "iopub.status.idle": "2021-08-06T01:03:48.323311Z",
          "shell.execute_reply.started": "2021-08-06T01:03:47.982932Z",
          "shell.execute_reply": "2021-08-06T01:03:48.322312Z"
        },
        "trusted": true,
        "id": "FULg7po2ac28"
      },
      "execution_count": null,
      "outputs": []
    }
  ]
}
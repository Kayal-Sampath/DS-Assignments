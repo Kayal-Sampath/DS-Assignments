{
 "cells": [
  {
   "cell_type": "code",
   "execution_count": 3,
   "id": "78d161a5",
   "metadata": {},
   "outputs": [
    {
     "name": "stdout",
     "output_type": "stream",
     "text": [
      "Collecting opencv-python\n",
      "  Downloading opencv_python-4.5.4.60-cp38-cp38-win_amd64.whl (35.1 MB)\n",
      "Requirement already satisfied: numpy>=1.17.3 in c:\\users\\lenovo\\anaconda3\\lib\\site-packages (from opencv-python) (1.20.1)\n",
      "Installing collected packages: opencv-python\n",
      "Successfully installed opencv-python-4.5.4.60\n"
     ]
    }
   ],
   "source": [
    "import tensorflow as tf\n",
    "import keras\n",
    "import numpy as np\n",
    "import matplotlib.pyplot as plt\n",
    "import seaborn as sns\n",
    "!pip install --upgrade opencv-python\n",
    "import cv2\n",
    "import os\n",
    "import glob\n",
    "import pickle"
   ]
  },
  {
   "cell_type": "code",
   "execution_count": 5,
   "id": "f8687640",
   "metadata": {},
   "outputs": [],
   "source": [
    "import random \n",
    "from tensorflow.keras.layers import Conv2D,Dense,MaxPooling2D,Dropout,Flatten,Activation,MaxPool2D,BatchNormalization\n",
    "from tensorflow.keras.models import Sequential\n",
    "from sklearn.model_selection import train_test_split\n",
    "from keras.preprocessing.image import ImageDataGenerator\n",
    "from keras.preprocessing import image\n",
    "from keras.utils.vis_utils import plot_model"
   ]
  },
  {
   "cell_type": "code",
   "execution_count": 7,
   "id": "281a5445",
   "metadata": {},
   "outputs": [],
   "source": [
    "CATAGORIES=['Bishop','King','Knight','Pawn','Queen','Rook'] ## define the list of number of classes we are going to use.\n",
    "DATADIR=r'C:\\Users\\Lenovo\\SSN Study Materials\\Kayal Vizhi - DL\\Image Processing\\Chessman-image-dataset\\Chess' # dataset path \n",
    "IMG_SIZE=300  ## mention size of image you wanted"
   ]
  },
  {
   "cell_type": "code",
   "execution_count": 8,
   "id": "c07a0e39",
   "metadata": {},
   "outputs": [],
   "source": [
    "train_datagen = ImageDataGenerator(rescale=1./255,\n",
    "                                    validation_split=0.3,\n",
    "                                    rotation_range=20,\n",
    "                                    width_shift_range=0.2,\n",
    "                                    height_shift_range=0.2,\n",
    "                                   shear_range=3, \n",
    "                                    zoom_range=50,\n",
    "                                    horizontal_flip=True,\n",
    "                                   vertical_flip=True)"
   ]
  },
  {
   "cell_type": "code",
   "execution_count": 9,
   "id": "eccc8827",
   "metadata": {},
   "outputs": [
    {
     "data": {
      "text/plain": [
       "['Bishop', 'King', 'Knight', 'Pawn', 'Queen', 'Rook']"
      ]
     },
     "execution_count": 9,
     "metadata": {},
     "output_type": "execute_result"
    }
   ],
   "source": [
    "batch_size=32\n",
    "IMG_HEIGHT=300\n",
    "train_dir=r'C:\\Users\\Lenovo\\SSN Study Materials\\Kayal Vizhi - DL\\Image Processing\\Chessman-image-dataset\\Chess'\n",
    "os.listdir(train_dir)"
   ]
  },
  {
   "cell_type": "code",
   "execution_count": 10,
   "id": "e21ba90d",
   "metadata": {},
   "outputs": [
    {
     "name": "stdout",
     "output_type": "stream",
     "text": [
      "Found 389 images belonging to 6 classes.\n",
      "Found 162 images belonging to 6 classes.\n"
     ]
    }
   ],
   "source": [
    "X_train_datagen=train_datagen.flow_from_directory(batch_size=batch_size,\n",
    "                                                   directory=train_dir,\n",
    "                                                   shuffle=True,\n",
    "                                                   target_size=(IMG_HEIGHT, IMG_HEIGHT),\n",
    "                                                   subset='training',\n",
    "                                                   class_mode='categorical',\n",
    "                                                   color_mode='grayscale',\n",
    "                                                   seed=42)\n",
    "                                                  \n",
    "                                                  \n",
    "validation_generator = train_datagen.flow_from_directory(directory=train_dir,\n",
    "                                                        target_size=(IMG_HEIGHT, IMG_HEIGHT),\n",
    "                                                        color_mode='grayscale',\n",
    "                                                        batch_size=batch_size,\n",
    "                                                        class_mode='categorical',\n",
    "                                                        subset='validation',\n",
    "                                                        shuffle=True,\n",
    "                                                        seed=42)"
   ]
  },
  {
   "cell_type": "code",
   "execution_count": 11,
   "id": "af13cada",
   "metadata": {},
   "outputs": [],
   "source": [
    "input_shape=(32, 300, 300, 1) ### here full size for model input  (batch_size,img_Size,img_size,1)"
   ]
  },
  {
   "cell_type": "code",
   "execution_count": 12,
   "id": "1536f7ac",
   "metadata": {},
   "outputs": [],
   "source": [
    "model = Sequential([\n",
    "    Conv2D(16, (3,3), input_shape=input_shape[1:], padding='same', activation='relu'),\n",
    "    MaxPooling2D(pool_size=(2,2)),\n",
    "    Conv2D(32, (3,3), padding='same', activation='relu'),\n",
    "    MaxPooling2D(pool_size=(2,2)),\n",
    "    Flatten(),\n",
    "    Dense(128, activation='relu'),\n",
    "    Dropout(0.5),\n",
    "    Dense(6, activation='softmax')\n",
    "])\n",
    "\n",
    "model.compile(loss='categorical_crossentropy',\n",
    "             optimizer='adam',\n",
    "             metrics=['accuracy'])"
   ]
  },
  {
   "cell_type": "code",
   "execution_count": 13,
   "id": "5f759d24",
   "metadata": {},
   "outputs": [
    {
     "name": "stdout",
     "output_type": "stream",
     "text": [
      "Model: \"sequential\"\n",
      "_________________________________________________________________\n",
      " Layer (type)                Output Shape              Param #   \n",
      "=================================================================\n",
      " conv2d (Conv2D)             (None, 300, 300, 16)      160       \n",
      "                                                                 \n",
      " max_pooling2d (MaxPooling2D  (None, 150, 150, 16)     0         \n",
      " )                                                               \n",
      "                                                                 \n",
      " conv2d_1 (Conv2D)           (None, 150, 150, 32)      4640      \n",
      "                                                                 \n",
      " max_pooling2d_1 (MaxPooling  (None, 75, 75, 32)       0         \n",
      " 2D)                                                             \n",
      "                                                                 \n",
      " flatten (Flatten)           (None, 180000)            0         \n",
      "                                                                 \n",
      " dense (Dense)               (None, 128)               23040128  \n",
      "                                                                 \n",
      " dropout (Dropout)           (None, 128)               0         \n",
      "                                                                 \n",
      " dense_1 (Dense)             (None, 6)                 774       \n",
      "                                                                 \n",
      "=================================================================\n",
      "Total params: 23,045,702\n",
      "Trainable params: 23,045,702\n",
      "Non-trainable params: 0\n",
      "_________________________________________________________________\n"
     ]
    }
   ],
   "source": [
    "model.summary()"
   ]
  },
  {
   "cell_type": "code",
   "execution_count": 14,
   "id": "1bf0c198",
   "metadata": {},
   "outputs": [],
   "source": [
    "Early = tf.keras.callbacks.EarlyStopping(monitor='val_loss', patience=3)#to prevent overffiting of dataset"
   ]
  },
  {
   "cell_type": "code",
   "execution_count": 15,
   "id": "bfaeb67a",
   "metadata": {},
   "outputs": [],
   "source": [
    "from keras.callbacks import ReduceLROnPlateau ##### To control learning rate\n",
    "learning_rate_reduction = ReduceLROnPlateau(monitor='val_accuracy', \n",
    "                                            patience=2, \n",
    "                                            verbose=1, \n",
    "                                            factor=0.5, \n",
    "                                            min_lr=0.0005) \n",
    "callback = [Early,learning_rate_reduction]"
   ]
  },
  {
   "cell_type": "code",
   "execution_count": null,
   "id": "97387182",
   "metadata": {},
   "outputs": [],
   "source": [
    "#image,label=next(X_train_datagen)\n",
    "#input_shape=image.shape (32, 300, 300, 1)"
   ]
  },
  {
   "cell_type": "code",
   "execution_count": 16,
   "id": "86196980",
   "metadata": {},
   "outputs": [
    {
     "name": "stderr",
     "output_type": "stream",
     "text": [
      "<ipython-input-16-bb6f402f682a>:1: UserWarning: `Model.fit_generator` is deprecated and will be removed in a future version. Please use `Model.fit`, which supports generators.\n",
      "  history = model.fit_generator(X_train_datagen,\n"
     ]
    },
    {
     "name": "stdout",
     "output_type": "stream",
     "text": [
      "\n",
      "Epoch 00003: ReduceLROnPlateau reducing learning rate to 0.0005000000237487257.\n"
     ]
    }
   ],
   "source": [
    "history = model.fit_generator(X_train_datagen,\n",
    "                              validation_data=validation_generator,\n",
    "                              callbacks = callback, \n",
    "                              epochs=10,\n",
    "                              verbose=0\n",
    "                             )### fit dataset for just 10 epoch \n",
    "###we can fit for more epoch but our purpose just learning since we prefer 10 epoch may be you train for 50-200 epoch"
   ]
  },
  {
   "cell_type": "code",
   "execution_count": 18,
   "id": "13d8b24a",
   "metadata": {},
   "outputs": [],
   "source": [
    "#history=model.fit(trainX, trainY, batch_size=32, epochs=20, verbose=1, validation_data=(testX, testY),callbacks=[callback])"
   ]
  },
  {
   "cell_type": "code",
   "execution_count": 19,
   "id": "9f1c328c",
   "metadata": {},
   "outputs": [
    {
     "data": {
      "text/plain": [
       "<matplotlib.legend.Legend at 0x17f80278a60>"
      ]
     },
     "execution_count": 19,
     "metadata": {},
     "output_type": "execute_result"
    },
    {
     "data": {
      "image/png": "[encoded data removed]",
      "text/plain": [
       "<Figure size 432x288 with 1 Axes>"
      ]
     },
     "metadata": {
      "needs_background": "light"
     },
     "output_type": "display_data"
    }
   ],
   "source": [
    "plt.figure(1)\n",
    "plt.plot(history.history['accuracy'])\n",
    "plt.plot(history.history['val_accuracy'])\n",
    "plt.title('model_Accuracy')\n",
    "plt.xlabel('epoch')\n",
    "plt.ylabel('accuracy')\n",
    "plt.legend(['train', 'validation'], loc='upper left')"
   ]
  },
  {
   "cell_type": "code",
   "execution_count": 20,
   "id": "31a568ad",
   "metadata": {},
   "outputs": [],
   "source": [
    "##### just and image plotting function\n",
    "def img_plot(x):\n",
    "    ndarray=prepare(x)\n",
    "    plt.plot(ndarray)\n",
    "    plt.show()"
   ]
  },
  {
   "cell_type": "code",
   "execution_count": 22,
   "id": "a3e492f3",
   "metadata": {},
   "outputs": [
    {
     "data": {
      "image/png": "[encoded data removed]",
      "text/plain": [
       "<Figure size 432x288 with 1 Axes>"
      ]
     },
     "metadata": {
      "needs_background": "light"
     },
     "output_type": "display_data"
    }
   ],
   "source": [
    "def prepare(file):\n",
    "    img_array = cv2.imread(file, cv2.IMREAD_GRAYSCALE)\n",
    "    new_array = cv2.resize(img_array, (IMG_HEIGHT, IMG_HEIGHT))\n",
    "    plt.imshow(new_array)\n",
    "    return new_array.reshape(-1, IMG_HEIGHT, IMG_HEIGHT, 1)\n",
    "#image = testX[1]#your image path\n",
    "image=r'C:\\Users\\Lenovo\\SSN Study Materials\\Kayal Vizhi - DL\\Image Processing\\Chessman-image-dataset\\Chess\\Rook/00000010.jpg'\n",
    "prediction = model.predict([prepare(image)])\n",
    "#img_plot(image)\n",
    "prediction = list(prediction[0])\n",
    "#print(CATAGORIES[prediction.index(max(prediction))])\n",
    "temp=CATAGORIES[prediction.index(max(prediction))]\n",
    "plt.title(temp)\n",
    "plt.show()"
   ]
  },
  {
   "cell_type": "code",
   "execution_count": null,
   "id": "59384e20",
   "metadata": {},
   "outputs": [],
   "source": []
  }
 ],
 "metadata": {
  "kernelspec": {
   "display_name": "Python 3",
   "language": "python",
   "name": "python3"
  },
  "language_info": {
   "codemirror_mode": {
    "name": "ipython",
    "version": 3
   },
   "file_extension": ".py",
   "mimetype": "text/x-python",
   "name": "python",
   "nbconvert_exporter": "python",
   "pygments_lexer": "ipython3",
   "version": "3.8.8"
  }
 },
 "nbformat": 4,
 "nbformat_minor": 5
}
